{
 "cells": [
  {
   "cell_type": "markdown",
   "metadata": {},
   "source": [
    "# One-to-Many and Many-to-Many Joins - Lab"
   ]
  },
  {
   "cell_type": "markdown",
   "metadata": {},
   "source": [
    "## Introduction"
   ]
  },
  {
   "cell_type": "markdown",
   "metadata": {},
   "source": [
    "In this lab, you'll practice your knowledge on One-to-Many and Many-to-many relationships!"
   ]
  },
  {
   "cell_type": "markdown",
   "metadata": {},
   "source": [
    "## Objectives"
   ]
  },
  {
   "cell_type": "markdown",
   "metadata": {},
   "source": [
    "You will be able to:\n",
    "- Query data including Many-to-Many relationships\n",
    "- Write queries that make use of Join Tables"
   ]
  },
  {
   "cell_type": "markdown",
   "metadata": {},
   "source": [
    "## One-to-Many and Many-to-Many Joins\n",
    "<img src='Database-Schema.png' width=550>"
   ]
  },
  {
   "cell_type": "markdown",
   "metadata": {},
   "source": [
    "## Employees and their Office (a One-to-One join)\n",
    "\n",
    "Return a list of all of the employees with their first name, last name and the city and state of the office that they work out of (if they have one). Include all employees and order them by their first name, then their last name."
   ]
  },
  {
   "cell_type": "code",
   "execution_count": 1,
   "metadata": {},
   "outputs": [],
   "source": [
    "import sqlite3\n",
    "import pandas as pd\n",
    "conn = sqlite3.connect('data.sqlite', detect_types=sqlite3.PARSE_COLNAMES)\n",
    "cur = conn.cursor()"
   ]
  },
  {
   "cell_type": "code",
   "execution_count": 2,
   "metadata": {},
   "outputs": [
    {
     "data": {
      "text/plain": [
       "[('Andy', 'Fixter', 'Sydney', ''),\n",
       " ('Anthony', 'Bow', 'San Francisco', 'CA'),\n",
       " ('Barry', 'Jones', 'London', ''),\n",
       " ('Diane', 'Murphy', 'San Francisco', 'CA'),\n",
       " ('Foon Yue', 'Tseng', 'NYC', 'NY'),\n",
       " ('George', 'Vanauf', 'NYC', 'NY'),\n",
       " ('Gerard', 'Bondur', 'Paris', ''),\n",
       " ('Gerard', 'Hernandez', 'Paris', ''),\n",
       " ('Jeff', 'Firrelli', 'San Francisco', 'CA'),\n",
       " ('Julie', 'Firrelli', 'Boston', 'MA'),\n",
       " ('Larry', 'Bott', 'London', ''),\n",
       " ('Leslie', 'Jennings', 'San Francisco', 'CA'),\n",
       " ('Leslie', 'Thompson', 'San Francisco', 'CA'),\n",
       " ('Loui', 'Bondur', 'Paris', ''),\n",
       " ('Mami', 'Nishi', 'Tokyo', 'Chiyoda-Ku'),\n",
       " ('Martin', 'Gerard', 'Paris', ''),\n",
       " ('Mary', 'Patterson', 'San Francisco', 'CA'),\n",
       " ('Pamela', 'Castillo', 'Paris', ''),\n",
       " ('Peter', 'Marsh', 'Sydney', ''),\n",
       " ('Steve', 'Patterson', 'Boston', 'MA'),\n",
       " ('Tom', 'King', 'Sydney', ''),\n",
       " ('William', 'Patterson', 'Sydney', ''),\n",
       " ('Yoshimi', 'Kato', 'Tokyo', 'Chiyoda-Ku')]"
      ]
     },
     "execution_count": 2,
     "metadata": {},
     "output_type": "execute_result"
    }
   ],
   "source": [
    "#Your code here\n",
    "cur.execute('''\n",
    "SELECT e.firstName, e.lastName, o.city, o.state\n",
    "FROM employees e\n",
    "JOIN offices o\n",
    "USING(officeCode)\n",
    "ORDER BY 1,2\n",
    "''').fetchall()"
   ]
  },
  {
   "cell_type": "markdown",
   "metadata": {},
   "source": [
    "## Customers and their Orders (a One-to-Many join)\n",
    "\n",
    "Return a list of all of the customers. For each customer return a record for each of their order numbers, order dates and statuses."
   ]
  },
  {
   "cell_type": "code",
   "execution_count": 2,
   "metadata": {},
   "outputs": [],
   "source": [
    "# Your code here\n",
    "cur.execute('''\n",
    "SELECT c.*, o.orderNumber, o.\n",
    "FROM c.customers\n",
    "''')"
   ]
  },
  {
   "cell_type": "markdown",
   "metadata": {},
   "source": [
    "## Orders and their Order Details (another One-to-Many join)\n",
    "\n",
    "Return a list of orders. For each order return a record for each order detail within the order."
   ]
  },
  {
   "cell_type": "code",
   "execution_count": 3,
   "metadata": {},
   "outputs": [],
   "source": [
    "# Your code here"
   ]
  },
  {
   "cell_type": "markdown",
   "metadata": {},
   "source": [
    "## Orders, Order details and Product Details (a Many-to-Many Join)"
   ]
  },
  {
   "cell_type": "markdown",
   "metadata": {},
   "source": [
    "Return a list of the orders with the the order information, and all the product information for each product in the order. "
   ]
  },
  {
   "cell_type": "code",
   "execution_count": 4,
   "metadata": {},
   "outputs": [],
   "source": [
    "# Your code here"
   ]
  },
  {
   "cell_type": "markdown",
   "metadata": {},
   "source": [
    "## Summary"
   ]
  },
  {
   "cell_type": "markdown",
   "metadata": {},
   "source": [
    "In this lab, you practiced your knowledge on One-to-Many and Many-to-many relationships!"
   ]
  }
 ],
 "metadata": {
  "kernelspec": {
   "display_name": "Python 3",
   "language": "python",
   "name": "python3"
  },
  "language_info": {
   "codemirror_mode": {
    "name": "ipython",
    "version": 3
   },
   "file_extension": ".py",
   "mimetype": "text/x-python",
   "name": "python",
   "nbconvert_exporter": "python",
   "pygments_lexer": "ipython3",
   "version": "3.6.6"
  }
 },
 "nbformat": 4,
 "nbformat_minor": 2
}
